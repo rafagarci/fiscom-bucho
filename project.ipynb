{
 "cells": [
  {
   "cell_type": "markdown",
   "metadata": {},
   "source": [
    "# Final Project"
   ]
  },
  {
   "cell_type": "code",
   "execution_count": 1,
   "metadata": {},
   "outputs": [],
   "source": [
    "import numpy as np\n",
    "import matplotlib.pyplot as plt"
   ]
  },
  {
   "cell_type": "code",
   "execution_count": 49,
   "metadata": {},
   "outputs": [
    {
     "data": {
      "image/png": "[encoded data removed]",
      "text/plain": [
       "<Figure size 640x480 with 1 Axes>"
      ]
     },
     "metadata": {},
     "output_type": "display_data"
    }
   ],
   "source": [
    "# Random vars parameters\n",
    "\n",
    "# P_o: mean 13MPa and sd: 1MPa\n",
    "P_o_mean = 13\n",
    "P_o_sd = 1\n",
    "# sigma_y: 235MPa and sd: 10\n",
    "sigma_y_mean = 235\n",
    "sigma_y_sd = 10\n",
    "# sigma_u: 375MPa and sd: 12\n",
    "sigma_u_mean = 375\n",
    "sigma_u_sd = 12\n",
    "# D_o: 1000mm and 0.5mm\n",
    "D_o_mean = 1000\n",
    "D_o_sd = 0.5\n",
    "# D_i: 960mm and 0.5mm \n",
    "D_i_mean = 960\n",
    "D_i_sd = 0.5\n",
    "\n",
    "# Seed for consistency\n",
    "np.random.seed(1)\n",
    "\n",
    "# Generate random vars\n",
    "def P_o():\n",
    "    return np.random.normal(loc = P_o_mean, scale = P_o_sd)\n",
    "def sigma_y():\n",
    "    return np.random.normal(loc = sigma_y_mean, scale = sigma_y_sd)\n",
    "def sigma_u():\n",
    "    return np.random.normal(loc = sigma_u_mean, scale = sigma_u_sd)\n",
    "def D_o():\n",
    "    return np.random.normal(loc = D_o_mean, scale = D_o_sd)\n",
    "def D_i():\n",
    "    return np.random.normal(loc = D_i_mean, scale = D_i_sd)\n",
    "def r(sigma_u, sigma_y):\n",
    "    return 0.224 * ((sigma_u / sigma_y) - 1) ** 0.604\n",
    "\n",
    "# Pressure random vars\n",
    "def faupel_37(sigma_y_obtained, sigma_u_obtained, D_o_obtained, D_i_obtained):\n",
    "    P_b = 2 / (3 ** 0.5)\n",
    "    P_b *= sigma_y_obtained\n",
    "    P_b *= (2 - (sigma_y_obtained / sigma_u_obtained))\n",
    "    P_b *= np.log(D_o_obtained/D_i_obtained)\n",
    "    return P_b\n",
    "\n",
    "def svensson_38(sigma_u, sigma_y, n, D_o, D_i):\n",
    "    P_b = sigma_u * (0.25 / (n + 0.227))\n",
    "    P_b *= (np.e/n) ** r(sigma_u, sigma_y)\n",
    "    P_b *= np.log(D_o / D_i)\n",
    "    return P_b\n",
    "\n",
    "def christopher_39(sigma_u, sigma_y, D_o, D_i):\n",
    "    P_b = (2/((3 ** 0.5) ** (r(sigma_u,sigma_y) + 1))) * sigma_u\n",
    "    P_b *= ((D_o - D_i)/D_i)\n",
    "    return P_b\n",
    "\n",
    "# Simulate 1000\n",
    "\n",
    "n_s = [(10 ** i, (10 ** i) * 2.5, (10 ** i) * 5, (10 ** i) * 7.5) for i in range(5)]\n",
    "res = [item for t in n_s for item in t][4:]\n",
    "n_s = list(map(lambda x: int(x), res))\n",
    "\n",
    "# Save all final probabilities\n",
    "probs_faupel_37 = np.array([])\n",
    "probs_svensson_38 = np.array([])\n",
    "probs_christopher_39 = np.array([])\n",
    "\n",
    "for n in n_s:\n",
    "    # Generate faupel_37 and P_o\n",
    "    faupel_37_simulated = np.array([])\n",
    "    svensson_38_simulated = np.array([])\n",
    "    christopher_39_simulated = np.array([])\n",
    "\n",
    "    for i in range(n):\n",
    "        faupel_37_simulated = np.append(faupel_37_simulated, faupel_37(sigma_y(), sigma_u(), D_o(), D_i()))\n",
    "        # IMPORTANT n is assumed to be 10 for svensson 38\n",
    "        svensson_38_simulated = np.append(svensson_38_simulated, svensson_38(sigma_u(), sigma_y(), 0.15, D_o(), D_i()))\n",
    "        christopher_39_simulated = np.append(christopher_39_simulated, christopher_39(sigma_u(), sigma_y(), D_o(), D_i()))\n",
    "    P_o_simulated = np.random.normal(13, 1, size = (n, 1))\n",
    "\n",
    "    # Compare them\n",
    "    smaller_than_P_o_faupel_37 = faupel_37_simulated < np.squeeze(P_o_simulated)\n",
    "    smaller_than_P_o_svensson_38 = svensson_38_simulated < np.squeeze(P_o_simulated)\n",
    "    smaller_than_P_o_christopher_39 = christopher_39_simulated < np.squeeze(P_o_simulated)\n",
    "    \n",
    "    # Calculate probabilities\n",
    "    probs_faupel_37 = np.append(probs_faupel_37, np.count_nonzero(smaller_than_P_o_faupel_37) / n)\n",
    "    probs_svensson_38 = np.append(probs_svensson_38, np.count_nonzero(smaller_than_P_o_svensson_38) / n)\n",
    "    probs_christopher_39 = np.append(probs_christopher_39, np.count_nonzero(smaller_than_P_o_christopher_39) / n)\n",
    "\n",
    "\n",
    "# Log change of base\n",
    "_ = plt.plot(np.log(np.array(n_s)) / np.log(10), probs_christopher_39, '-or')\n",
    "_ = plt.ylim(0,0.3)\n",
    "_ = plt.xlabel('Exponents of 10')\n",
    "_ = plt.ylabel('Probability of failure')\n"
   ]
  },
  {
   "cell_type": "code",
   "execution_count": 48,
   "metadata": {},
   "outputs": [
    {
     "data": {
      "text/plain": [
       "16.453008019860302"
      ]
     },
     "execution_count": 48,
     "metadata": {},
     "output_type": "execute_result"
    }
   ],
   "source": [
    "christopher_39(sigma_u(), sigma_y(), D_o(), D_i())"
   ]
  }
 ],
 "metadata": {
  "kernelspec": {
   "display_name": "Python 3.8.10 64-bit",
   "language": "python",
   "name": "python3"
  },
  "language_info": {
   "codemirror_mode": {
    "name": "ipython",
    "version": 3
   },
   "file_extension": ".py",
   "mimetype": "text/x-python",
   "name": "python",
   "nbconvert_exporter": "python",
   "pygments_lexer": "ipython3",
   "version": "3.8.10"
  },
  "orig_nbformat": 4,
  "vscode": {
   "interpreter": {
    "hash": "916dbcbb3f70747c44a77c7bcd40155683ae19c65e1c03b4aa3499c5328201f1"
   }
  }
 },
 "nbformat": 4,
 "nbformat_minor": 2
}
