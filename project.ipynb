{
 "cells": [
  {
   "cell_type": "markdown",
   "metadata": {},
   "source": [
    "# Final Project"
   ]
  },
  {
   "cell_type": "code",
   "execution_count": 15,
   "metadata": {},
   "outputs": [
    {
     "name": "stdout",
     "output_type": "stream",
     "text": [
      "251.2434536366324 367.6589230361991 999.7359141238683 959.4635156889219\n",
      "0.19840210306449207\n"
     ]
    }
   ],
   "source": [
    "import numpy as np\n",
    "\n",
    "# Random vars parameters\n",
    "\n",
    "# P_o: mean 13MPa and sd: 1MPa\n",
    "P_o_mean = 13\n",
    "P_o_sd = 1\n",
    "# sigma_y: 235MPa and sd: 10\n",
    "sigma_y_mean = 235\n",
    "sigma_y_sd = 10\n",
    "# sigma_u: 375MPa and sd: 12\n",
    "sigma_u_mean = 375\n",
    "sigma_u_sd = 12\n",
    "# D_o: 1000mm and 0.5mm\n",
    "D_o_mean = 1000\n",
    "D_o_sd = 0.5\n",
    "# D_i: 960mm and 0.5mm \n",
    "D_i_mean = 960\n",
    "D_i_sd = 0.5\n",
    "\n",
    "# Seed for consistency\n",
    "np.random.seed(1)\n",
    "\n",
    "# Generate random vars\n",
    "def P_o():\n",
    "    return np.random.normal(loc = P_o_mean, scale = P_o_sd)\n",
    "def sigma_y():\n",
    "    return np.random.normal(loc = sigma_y_mean, scale = sigma_y_sd)\n",
    "def sigma_u():\n",
    "    return np.random.normal(loc = sigma_u_mean, scale = sigma_u_sd)\n",
    "def D_o():\n",
    "    return np.random.normal(loc = D_o_mean, scale = D_o_sd)\n",
    "def D_i():\n",
    "    return np.random.normal(loc = D_i_mean, scale = D_i_sd)\n",
    "def r(sigma_u, sigma_y):\n",
    "    return 0.224 * ((sigma_u / sigma_y) - 1) ** 0.604\n",
    "\n",
    "# def faupel_37(sigma_y, sigma_u, D_o, D_i):\n",
    "#      return ( 2 / (3 ** 0.5) ) * sigma_y * (2 - (sigma_y / sigma_u)) * np.log(D_o, D_i)\n",
    "\n",
    "\n"
   ]
  }
 ],
 "metadata": {
  "kernelspec": {
   "display_name": "Python 3.8.10 64-bit",
   "language": "python",
   "name": "python3"
  },
  "language_info": {
   "codemirror_mode": {
    "name": "ipython",
    "version": 3
   },
   "file_extension": ".py",
   "mimetype": "text/x-python",
   "name": "python",
   "nbconvert_exporter": "python",
   "pygments_lexer": "ipython3",
   "version": "3.8.10"
  },
  "orig_nbformat": 4,
  "vscode": {
   "interpreter": {
    "hash": "916dbcbb3f70747c44a77c7bcd40155683ae19c65e1c03b4aa3499c5328201f1"
   }
  }
 },
 "nbformat": 4,
 "nbformat_minor": 2
}
